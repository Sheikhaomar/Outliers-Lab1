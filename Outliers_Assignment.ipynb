{
 "cells": [
  {
   "cell_type": "markdown",
   "id": "timely-involvement",
   "metadata": {},
   "source": [
    "### Import your librares"
   ]
  },
  {
   "cell_type": "code",
   "execution_count": 1,
   "id": "dramatic-briefs",
   "metadata": {},
   "outputs": [],
   "source": [
    "import pandas as pd\n",
    "import numpy as np\n",
    "import matplotlib.pyplot as plt\n",
    "import seaborn as sns\n",
    "import plotly as pfx\n"
   ]
  },
  {
   "cell_type": "markdown",
   "id": "australian-softball",
   "metadata": {},
   "source": [
    "### Load your dataset"
   ]
  },
  {
   "cell_type": "code",
   "execution_count": 2,
   "id": "average-recipient",
   "metadata": {},
   "outputs": [
    {
     "data": {
      "text/html": [
       "<div>\n",
       "<style scoped>\n",
       "    .dataframe tbody tr th:only-of-type {\n",
       "        vertical-align: middle;\n",
       "    }\n",
       "\n",
       "    .dataframe tbody tr th {\n",
       "        vertical-align: top;\n",
       "    }\n",
       "\n",
       "    .dataframe thead th {\n",
       "        text-align: right;\n",
       "    }\n",
       "</style>\n",
       "<table border=\"1\" class=\"dataframe\">\n",
       "  <thead>\n",
       "    <tr style=\"text-align: right;\">\n",
       "      <th></th>\n",
       "      <th>DATE</th>\n",
       "      <th>PRCP</th>\n",
       "      <th>TMAX</th>\n",
       "      <th>TMIN</th>\n",
       "      <th>RAIN</th>\n",
       "    </tr>\n",
       "  </thead>\n",
       "  <tbody>\n",
       "    <tr>\n",
       "      <th>0</th>\n",
       "      <td>1948-01-01</td>\n",
       "      <td>0.47</td>\n",
       "      <td>51</td>\n",
       "      <td>42</td>\n",
       "      <td>True</td>\n",
       "    </tr>\n",
       "    <tr>\n",
       "      <th>1</th>\n",
       "      <td>1948-01-02</td>\n",
       "      <td>0.59</td>\n",
       "      <td>45</td>\n",
       "      <td>36</td>\n",
       "      <td>True</td>\n",
       "    </tr>\n",
       "    <tr>\n",
       "      <th>2</th>\n",
       "      <td>1948-01-03</td>\n",
       "      <td>0.42</td>\n",
       "      <td>45</td>\n",
       "      <td>35</td>\n",
       "      <td>True</td>\n",
       "    </tr>\n",
       "    <tr>\n",
       "      <th>3</th>\n",
       "      <td>1948-01-04</td>\n",
       "      <td>0.31</td>\n",
       "      <td>45</td>\n",
       "      <td>34</td>\n",
       "      <td>True</td>\n",
       "    </tr>\n",
       "    <tr>\n",
       "      <th>4</th>\n",
       "      <td>1948-01-05</td>\n",
       "      <td>0.17</td>\n",
       "      <td>45</td>\n",
       "      <td>32</td>\n",
       "      <td>True</td>\n",
       "    </tr>\n",
       "    <tr>\n",
       "      <th>...</th>\n",
       "      <td>...</td>\n",
       "      <td>...</td>\n",
       "      <td>...</td>\n",
       "      <td>...</td>\n",
       "      <td>...</td>\n",
       "    </tr>\n",
       "    <tr>\n",
       "      <th>25546</th>\n",
       "      <td>2017-12-10</td>\n",
       "      <td>0.00</td>\n",
       "      <td>49</td>\n",
       "      <td>34</td>\n",
       "      <td>False</td>\n",
       "    </tr>\n",
       "    <tr>\n",
       "      <th>25547</th>\n",
       "      <td>2017-12-11</td>\n",
       "      <td>0.00</td>\n",
       "      <td>49</td>\n",
       "      <td>29</td>\n",
       "      <td>False</td>\n",
       "    </tr>\n",
       "    <tr>\n",
       "      <th>25548</th>\n",
       "      <td>2017-12-12</td>\n",
       "      <td>0.00</td>\n",
       "      <td>46</td>\n",
       "      <td>32</td>\n",
       "      <td>False</td>\n",
       "    </tr>\n",
       "    <tr>\n",
       "      <th>25549</th>\n",
       "      <td>2017-12-13</td>\n",
       "      <td>0.00</td>\n",
       "      <td>48</td>\n",
       "      <td>34</td>\n",
       "      <td>False</td>\n",
       "    </tr>\n",
       "    <tr>\n",
       "      <th>25550</th>\n",
       "      <td>2017-12-14</td>\n",
       "      <td>0.00</td>\n",
       "      <td>50</td>\n",
       "      <td>36</td>\n",
       "      <td>False</td>\n",
       "    </tr>\n",
       "  </tbody>\n",
       "</table>\n",
       "<p>25551 rows × 5 columns</p>\n",
       "</div>"
      ],
      "text/plain": [
       "             DATE  PRCP  TMAX  TMIN   RAIN\n",
       "0      1948-01-01  0.47    51    42   True\n",
       "1      1948-01-02  0.59    45    36   True\n",
       "2      1948-01-03  0.42    45    35   True\n",
       "3      1948-01-04  0.31    45    34   True\n",
       "4      1948-01-05  0.17    45    32   True\n",
       "...           ...   ...   ...   ...    ...\n",
       "25546  2017-12-10  0.00    49    34  False\n",
       "25547  2017-12-11  0.00    49    29  False\n",
       "25548  2017-12-12  0.00    46    32  False\n",
       "25549  2017-12-13  0.00    48    34  False\n",
       "25550  2017-12-14  0.00    50    36  False\n",
       "\n",
       "[25551 rows x 5 columns]"
      ]
     },
     "execution_count": 2,
     "metadata": {},
     "output_type": "execute_result"
    }
   ],
   "source": [
    "df=pd.read_csv(\"seattle_weather.csv\")\n",
    "df"
   ]
  },
  {
   "cell_type": "markdown",
   "id": "9f68b54e",
   "metadata": {},
   "source": [
    "### Handle missing data in PRCP and RAIN columns"
   ]
  },
  {
   "cell_type": "code",
   "execution_count": 3,
   "id": "0801bd07",
   "metadata": {},
   "outputs": [
    {
     "data": {
      "text/plain": [
       "DATE    0\n",
       "PRCP    3\n",
       "TMAX    0\n",
       "TMIN    0\n",
       "RAIN    3\n",
       "dtype: int64"
      ]
     },
     "execution_count": 3,
     "metadata": {},
     "output_type": "execute_result"
    }
   ],
   "source": [
    "df.isnull().sum()"
   ]
  },
  {
   "cell_type": "code",
   "execution_count": 4,
   "id": "3a495d72",
   "metadata": {},
   "outputs": [
    {
     "data": {
      "text/plain": [
       "array([True, False, nan], dtype=object)"
      ]
     },
     "execution_count": 4,
     "metadata": {},
     "output_type": "execute_result"
    }
   ],
   "source": [
    "df['RAIN'].unique()"
   ]
  },
  {
   "cell_type": "code",
   "execution_count": 5,
   "id": "7951f866",
   "metadata": {},
   "outputs": [
    {
     "data": {
      "text/plain": [
       "array([0.47, 0.59, 0.42, 0.31, 0.17, 0.44, 0.41, 0.04, 0.12, 0.74, 0.01,\n",
       "       0.  , 0.21, 0.1 , 0.22, 0.03, 0.2 , 0.14, 0.06, 0.56, 0.5 , 0.35,\n",
       "       0.84, 0.13, 0.46, 0.11, 0.05, 0.98, 0.09, 0.19, 0.16, 0.08, 0.02,\n",
       "       2.04, 0.4 , 0.33, 0.34, 0.54, 0.18, 0.37, 0.24, 0.7 , 0.27, 0.26,\n",
       "       0.39, 0.29, 0.83, 0.88, 0.3 , 0.92, 0.76, 0.36, 0.07, 1.51, 0.66,\n",
       "       0.15, 0.87, 0.43, 0.67, 0.49, 0.78, 0.25, 0.73, 0.52, 0.96, 1.83,\n",
       "       0.32, 0.97, 0.6 , 0.28, 0.65, 0.23, 0.81, 1.17, 0.69, 1.38, 1.14,\n",
       "       1.27, 0.95, 1.07, 1.46, 1.03, 0.79, 0.45, 0.8 , 2.08, 0.85, 1.05,\n",
       "       0.61, 0.75, 1.2 , 0.99, 0.63, 0.53, 0.64, 1.13, 0.62, 0.68, 0.51,\n",
       "       0.38, 0.82, 1.45, 2.98, 0.93, 0.77, 0.57, 1.  , 0.48, 0.58, 1.36,\n",
       "       0.71, 1.26, 1.29, 1.65, 0.72, 1.19, 1.64, 1.23, 0.55, 1.15, 2.58,\n",
       "       1.01, 2.18, 1.28, 1.12, 1.32, 1.93, 1.22, 0.89, 1.78, 0.86, 1.11,\n",
       "       0.94, 1.08, 1.06, 1.04, 3.41, 1.34, 1.6 , 0.91, 1.54, 1.24, 1.16,\n",
       "       1.55, 1.18, 1.21, 1.37, 1.31, 0.9 , 1.02, 1.5 , 1.85, 1.68, 1.7 ,\n",
       "       1.56, 2.26, 1.61, 1.63, 1.75, 1.67, 1.39, 1.66, 2.23, 2.7 , 1.48,\n",
       "       2.14, 1.3 , 1.76, 1.49, 1.52, 2.72, 1.33, 1.09, 1.4 , 1.53, 1.35,\n",
       "       1.1 , 2.13, 2.49, 1.47, 1.41, 2.83, 2.95, 2.93, 1.58, 2.64, 1.81,\n",
       "       3.06, 1.71, 1.92, 1.86, 1.42,  nan, 3.04, 2.61, 5.02, 2.06, 2.39,\n",
       "       1.91, 3.29, 1.77, 3.77, 2.15, 2.29, 2.19, 1.84, 2.2 , 1.74])"
      ]
     },
     "execution_count": 5,
     "metadata": {},
     "output_type": "execute_result"
    }
   ],
   "source": [
    "df['PRCP'].unique()"
   ]
  },
  {
   "cell_type": "code",
   "execution_count": 6,
   "id": "f848b578",
   "metadata": {},
   "outputs": [
    {
     "data": {
      "text/plain": [
       "0.05713603840671194"
      ]
     },
     "execution_count": 6,
     "metadata": {},
     "output_type": "execute_result"
    }
   ],
   "source": [
    "df['PRCP'].var()"
   ]
  },
  {
   "cell_type": "code",
   "execution_count": 7,
   "id": "d76e7637",
   "metadata": {},
   "outputs": [
    {
     "data": {
      "image/png": "[encoded data removed]",
      "text/plain": [
       "<Figure size 640x480 with 1 Axes>"
      ]
     },
     "metadata": {},
     "output_type": "display_data"
    }
   ],
   "source": [
    "df['PRCP'].plot(kind=\"hist\", title=\"Histogram of PRCP\");"
   ]
  },
  {
   "cell_type": "code",
   "execution_count": 8,
   "id": "647c18ba",
   "metadata": {},
   "outputs": [
    {
     "data": {
      "text/plain": [
       "0    0.0\n",
       "Name: PRCP, dtype: float64"
      ]
     },
     "execution_count": 8,
     "metadata": {},
     "output_type": "execute_result"
    }
   ],
   "source": [
    "PRCP_mode = round(df['PRCP'].mode())\n",
    "PRCP_mode"
   ]
  },
  {
   "cell_type": "code",
   "execution_count": 9,
   "id": "fe06f0fd",
   "metadata": {},
   "outputs": [
    {
     "data": {
      "text/plain": [
       "0"
      ]
     },
     "execution_count": 9,
     "metadata": {},
     "output_type": "execute_result"
    }
   ],
   "source": [
    "df['PRCP'] =df['PRCP'].fillna(0.0)\n",
    "df['PRCP'].isnull().sum()"
   ]
  },
  {
   "cell_type": "code",
   "execution_count": 10,
   "id": "43e688f8",
   "metadata": {},
   "outputs": [
    {
     "data": {
      "text/plain": [
       "0.05713065433662097"
      ]
     },
     "execution_count": 10,
     "metadata": {},
     "output_type": "execute_result"
    }
   ],
   "source": [
    "df['PRCP'].var()"
   ]
  },
  {
   "cell_type": "code",
   "execution_count": 11,
   "id": "fd611fdc",
   "metadata": {},
   "outputs": [
    {
     "data": {
      "image/png": "[encoded data removed]",
      "text/plain": [
       "<Figure size 640x480 with 1 Axes>"
      ]
     },
     "metadata": {},
     "output_type": "display_data"
    }
   ],
   "source": [
    "df['PRCP'].plot(kind=\"hist\", title=\"Histogram of PRCP\");"
   ]
  },
  {
   "cell_type": "code",
   "execution_count": 12,
   "id": "02f16217",
   "metadata": {},
   "outputs": [
    {
     "data": {
      "image/png": "[encoded data removed]",
      "text/plain": [
       "<Figure size 640x480 with 1 Axes>"
      ]
     },
     "metadata": {},
     "output_type": "display_data"
    }
   ],
   "source": [
    "df['RAIN'].value_counts().plot(kind='bar', title=\"RAIN Distribution\");"
   ]
  },
  {
   "cell_type": "code",
   "execution_count": 13,
   "id": "29317727",
   "metadata": {},
   "outputs": [
    {
     "data": {
      "text/plain": [
       "0.24462904154362605"
      ]
     },
     "execution_count": 13,
     "metadata": {},
     "output_type": "execute_result"
    }
   ],
   "source": [
    "df['RAIN'].var()"
   ]
  },
  {
   "cell_type": "code",
   "execution_count": 14,
   "id": "1b4d86b4",
   "metadata": {},
   "outputs": [],
   "source": [
    "df['RAIN'] = np.where(df['PRCP']==0.0,df['RAIN'].fillna(False),df['RAIN'].fillna(True))"
   ]
  },
  {
   "cell_type": "code",
   "execution_count": 15,
   "id": "c4458a53",
   "metadata": {},
   "outputs": [
    {
     "data": {
      "text/plain": [
       "0"
      ]
     },
     "execution_count": 15,
     "metadata": {},
     "output_type": "execute_result"
    }
   ],
   "source": [
    "df['RAIN'].isnull().sum()"
   ]
  },
  {
   "cell_type": "code",
   "execution_count": 16,
   "id": "0ba8e283",
   "metadata": {},
   "outputs": [
    {
     "data": {
      "text/plain": [
       "array([ True, False])"
      ]
     },
     "execution_count": 16,
     "metadata": {},
     "output_type": "execute_result"
    }
   ],
   "source": [
    "df['RAIN'].unique()"
   ]
  },
  {
   "cell_type": "code",
   "execution_count": 17,
   "id": "c26e341b",
   "metadata": {},
   "outputs": [
    {
     "data": {
      "image/png": "[encoded data removed]",
      "text/plain": [
       "<Figure size 640x480 with 1 Axes>"
      ]
     },
     "metadata": {},
     "output_type": "display_data"
    }
   ],
   "source": [
    "df['RAIN'].value_counts().plot(kind='bar', title=\"RAIN Distribution\");"
   ]
  },
  {
   "cell_type": "code",
   "execution_count": 18,
   "id": "21dd3d23",
   "metadata": {},
   "outputs": [
    {
     "data": {
      "text/plain": [
       "0.24462168866671707"
      ]
     },
     "execution_count": 18,
     "metadata": {},
     "output_type": "execute_result"
    }
   ],
   "source": [
    "df['RAIN'].var()"
   ]
  },
  {
   "cell_type": "code",
   "execution_count": 19,
   "id": "a003ef18",
   "metadata": {},
   "outputs": [
    {
     "data": {
      "text/plain": [
       "DATE    0\n",
       "PRCP    0\n",
       "TMAX    0\n",
       "TMIN    0\n",
       "RAIN    0\n",
       "dtype: int64"
      ]
     },
     "execution_count": 19,
     "metadata": {},
     "output_type": "execute_result"
    }
   ],
   "source": [
    "df.isnull().sum()"
   ]
  },
  {
   "cell_type": "markdown",
   "id": "monthly-meter",
   "metadata": {},
   "source": [
    "### Repeat the following steps for each column within outliers\n",
    "\n",
    "* Visualize the outliers\n",
    "* Detect if your data set contains any outliers\n",
    "* Identify lower & higher limit of outliers\n",
    "* Drop all outliers\n",
    "* Visualize the column after processing\n"
   ]
  },
  {
   "cell_type": "code",
   "execution_count": null,
   "id": "fbc56c3c",
   "metadata": {},
   "outputs": [],
   "source": []
  },
  {
   "cell_type": "code",
   "execution_count": 20,
   "id": "enhanced-forge",
   "metadata": {},
   "outputs": [
    {
     "data": {
      "image/png": "[encoded data removed]",
      "text/plain": [
       "<Figure size 640x480 with 1 Axes>"
      ]
     },
     "metadata": {},
     "output_type": "display_data"
    }
   ],
   "source": [
    "sns.boxplot(df['PRCP']);"
   ]
  },
  {
   "cell_type": "code",
   "execution_count": 21,
   "id": "professional-error",
   "metadata": {},
   "outputs": [
    {
     "name": "stdout",
     "output_type": "stream",
     "text": [
      "lower bound outliers  -0.15000000000000002\n",
      "higher bound outliers 0.25\n"
     ]
    },
    {
     "name": "stderr",
     "output_type": "stream",
     "text": [
      "C:\\Users\\Sheikha\\AppData\\Local\\Temp\\ipykernel_11888\\3978211186.py:1: DeprecationWarning: the `interpolation=` argument to percentile was renamed to `method=`, which has additional options.\n",
      "Users of the modes 'nearest', 'lower', 'higher', or 'midpoint' are encouraged to review the method they used. (Deprecated NumPy 1.22)\n",
      "  Q1 = np.percentile(df['PRCP'], 25, interpolation = 'midpoint')\n",
      "C:\\Users\\Sheikha\\AppData\\Local\\Temp\\ipykernel_11888\\3978211186.py:2: DeprecationWarning: the `interpolation=` argument to percentile was renamed to `method=`, which has additional options.\n",
      "Users of the modes 'nearest', 'lower', 'higher', or 'midpoint' are encouraged to review the method they used. (Deprecated NumPy 1.22)\n",
      "  Q3 = np.percentile(df['PRCP'], 75, interpolation = 'midpoint')\n"
     ]
    }
   ],
   "source": [
    "Q1 = np.percentile(df['PRCP'], 25, interpolation = 'midpoint')\n",
    "Q3 = np.percentile(df['PRCP'], 75, interpolation = 'midpoint')\n",
    "IQR = Q3 - Q1\n",
    "               \n",
    "print('lower bound outliers ', Q1 - 1.5*(IQR))\n",
    "print('higher bound outliers', Q3 + 1.5*(IQR))"
   ]
  },
  {
   "cell_type": "code",
   "execution_count": 22,
   "id": "6d0a5506",
   "metadata": {},
   "outputs": [],
   "source": [
    "PRCP = df.drop(df[( df['PRCP']> 0.25)].index)"
   ]
  },
  {
   "cell_type": "code",
   "execution_count": 23,
   "id": "39f26146",
   "metadata": {},
   "outputs": [
    {
     "data": {
      "image/png": "[encoded data removed]",
      "text/plain": [
       "<Figure size 640x480 with 1 Axes>"
      ]
     },
     "metadata": {},
     "output_type": "display_data"
    }
   ],
   "source": [
    "sns.boxplot(PRCP);"
   ]
  },
  {
   "cell_type": "code",
   "execution_count": 24,
   "id": "daily-crime",
   "metadata": {},
   "outputs": [
    {
     "data": {
      "image/png": "[encoded data removed]",
      "text/plain": [
       "<Figure size 640x480 with 1 Axes>"
      ]
     },
     "metadata": {},
     "output_type": "display_data"
    }
   ],
   "source": [
    "sns.boxplot(df ['TMAX']);"
   ]
  },
  {
   "cell_type": "code",
   "execution_count": 25,
   "id": "2c6c6c80",
   "metadata": {},
   "outputs": [
    {
     "name": "stdout",
     "output_type": "stream",
     "text": [
      "lower bound outliers  21.5\n",
      "higher bound outliers 97.5\n"
     ]
    },
    {
     "name": "stderr",
     "output_type": "stream",
     "text": [
      "C:\\Users\\Sheikha\\AppData\\Local\\Temp\\ipykernel_11888\\1725072702.py:1: DeprecationWarning: the `interpolation=` argument to percentile was renamed to `method=`, which has additional options.\n",
      "Users of the modes 'nearest', 'lower', 'higher', or 'midpoint' are encouraged to review the method they used. (Deprecated NumPy 1.22)\n",
      "  Q1 = np.percentile(df['TMAX'], 25, interpolation = 'midpoint')\n",
      "C:\\Users\\Sheikha\\AppData\\Local\\Temp\\ipykernel_11888\\1725072702.py:2: DeprecationWarning: the `interpolation=` argument to percentile was renamed to `method=`, which has additional options.\n",
      "Users of the modes 'nearest', 'lower', 'higher', or 'midpoint' are encouraged to review the method they used. (Deprecated NumPy 1.22)\n",
      "  Q3 = np.percentile(df['TMAX'], 75, interpolation = 'midpoint')\n"
     ]
    }
   ],
   "source": [
    "Q1 = np.percentile(df['TMAX'], 25, interpolation = 'midpoint')\n",
    "Q3 = np.percentile(df['TMAX'], 75, interpolation = 'midpoint')\n",
    "IQR = Q3 - Q1\n",
    "               \n",
    "print('lower bound outliers ', Q1 - 1.5*(IQR))\n",
    "print('higher bound outliers', Q3 + 1.5*(IQR))"
   ]
  },
  {
   "cell_type": "code",
   "execution_count": 26,
   "id": "0d04078e",
   "metadata": {},
   "outputs": [],
   "source": [
    "TMAX = df.drop(df[( df['PRCP']> 0.25)|( df['TMAX']> 97.5) | (df['TMAX'] < 21.5)].index)"
   ]
  },
  {
   "cell_type": "code",
   "execution_count": 27,
   "id": "6be2ac41",
   "metadata": {},
   "outputs": [
    {
     "data": {
      "image/png": "[encoded data removed]",
      "text/plain": [
       "<Figure size 640x480 with 1 Axes>"
      ]
     },
     "metadata": {},
     "output_type": "display_data"
    }
   ],
   "source": [
    "sns.boxplot(TMAX);"
   ]
  },
  {
   "cell_type": "code",
   "execution_count": 28,
   "id": "d2395053",
   "metadata": {},
   "outputs": [
    {
     "data": {
      "image/png": "[encoded data removed]",
      "text/plain": [
       "<Figure size 640x480 with 1 Axes>"
      ]
     },
     "metadata": {},
     "output_type": "display_data"
    }
   ],
   "source": [
    "sns.boxplot(df ['TMIN']);"
   ]
  },
  {
   "cell_type": "code",
   "execution_count": 29,
   "id": "a8653d5b",
   "metadata": {},
   "outputs": [
    {
     "name": "stdout",
     "output_type": "stream",
     "text": [
      "lower bound outliers  17.0\n",
      "higher bound outliers 73.0\n"
     ]
    },
    {
     "name": "stderr",
     "output_type": "stream",
     "text": [
      "C:\\Users\\Sheikha\\AppData\\Local\\Temp\\ipykernel_11888\\3134730786.py:1: DeprecationWarning: the `interpolation=` argument to percentile was renamed to `method=`, which has additional options.\n",
      "Users of the modes 'nearest', 'lower', 'higher', or 'midpoint' are encouraged to review the method they used. (Deprecated NumPy 1.22)\n",
      "  Q1 = np.percentile(df['TMIN'], 25, interpolation = 'midpoint')\n",
      "C:\\Users\\Sheikha\\AppData\\Local\\Temp\\ipykernel_11888\\3134730786.py:2: DeprecationWarning: the `interpolation=` argument to percentile was renamed to `method=`, which has additional options.\n",
      "Users of the modes 'nearest', 'lower', 'higher', or 'midpoint' are encouraged to review the method they used. (Deprecated NumPy 1.22)\n",
      "  Q3 = np.percentile(df['TMIN'], 75, interpolation = 'midpoint')\n"
     ]
    }
   ],
   "source": [
    "Q1 = np.percentile(df['TMIN'], 25, interpolation = 'midpoint')\n",
    "Q3 = np.percentile(df['TMIN'], 75, interpolation = 'midpoint')\n",
    "IQR = Q3 - Q1\n",
    "               \n",
    "print('lower bound outliers ', Q1 - 1.5*(IQR))\n",
    "print('higher bound outliers', Q3 + 1.5*(IQR))"
   ]
  },
  {
   "cell_type": "code",
   "execution_count": 30,
   "id": "5d1b71fa",
   "metadata": {},
   "outputs": [],
   "source": [
    "TMIN = df.drop(df[(df['PRCP']> 0.25)|( df['TMAX']> 97.5) | (df['TMAX'] < 21.5)|(df['TMIN'] < 17.0)].index)"
   ]
  },
  {
   "cell_type": "code",
   "execution_count": 31,
   "id": "f0448a8c",
   "metadata": {},
   "outputs": [
    {
     "data": {
      "image/png": "[encoded data removed]",
      "text/plain": [
       "<Figure size 640x480 with 1 Axes>"
      ]
     },
     "metadata": {},
     "output_type": "display_data"
    }
   ],
   "source": [
    "sns.boxplot(TMIN);"
   ]
  },
  {
   "cell_type": "code",
   "execution_count": null,
   "id": "04493ff8",
   "metadata": {},
   "outputs": [],
   "source": []
  },
  {
   "cell_type": "code",
   "execution_count": null,
   "id": "7a19eae7",
   "metadata": {},
   "outputs": [],
   "source": []
  }
 ],
 "metadata": {
  "kernelspec": {
   "display_name": "Python 3 (ipykernel)",
   "language": "python",
   "name": "python3"
  },
  "language_info": {
   "codemirror_mode": {
    "name": "ipython",
    "version": 3
   },
   "file_extension": ".py",
   "mimetype": "text/x-python",
   "name": "python",
   "nbconvert_exporter": "python",
   "pygments_lexer": "ipython3",
   "version": "3.10.9"
  }
 },
 "nbformat": 4,
 "nbformat_minor": 5
}
